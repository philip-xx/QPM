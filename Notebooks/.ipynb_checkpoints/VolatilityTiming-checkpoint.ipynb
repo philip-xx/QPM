{
 "cells": [
  {
   "cell_type": "markdown",
   "metadata": {},
   "source": [
    "# Volatility-timing Strategy"
   ]
  },
  {
   "cell_type": "markdown",
   "metadata": {},
   "source": [
    "## Summary"
   ]
  },
  {
   "cell_type": "markdown",
   "metadata": {},
   "source": [
    "Mean-variance portfolio theory implies that an investor chooses a tangency portfolio that maximize the Sharpe ratio:\n",
    "\n",
    "$$\n",
    "SR \\equiv \\frac{\\mathbb{E}\\left[r\\right]-r_f}{\\sigma}\n",
    "$$\n",
    "\n",
    "and the optimal weight on the tangency portfolio is given by\n",
    "\n",
    "$$\n",
    "w = \\frac{SR}{RA \\times \\sigma}\n",
    "$$\n",
    "\n",
    "Hence there is scope to improve the alpha by volatility timing."
   ]
  },
  {
   "cell_type": "markdown",
   "metadata": {},
   "source": [
    "## Reference"
   ]
  },
  {
   "cell_type": "markdown",
   "metadata": {},
   "source": [
    "Moreira and Muir, Volatility-Managed Portfolios, Journal of Finance, 2017."
   ]
  },
  {
   "cell_type": "markdown",
   "metadata": {},
   "source": [
    "## Quantopian Implementation"
   ]
  },
  {
   "cell_type": "code",
   "execution_count": null,
   "metadata": {
    "collapsed": true
   },
   "outputs": [],
   "source": [
    "import numpy as np\n",
    "\n",
    "def initialize(context):\n",
    "    \n",
    "    context.SPY = symbol('SPY')\n",
    "    \n",
    "    schedule_function(rebalance, \n",
    "                      date_rules.month_start(),\n",
    "                      time_rules.market_open())\n",
    "    \n",
    "    schedule_function(record_vars, \n",
    "                     date_rules.every_day(),\n",
    "                     time_rules.market_close())\n",
    "    \n",
    "def record_vars(context, data):\n",
    "    record(leverage = context.account.leverage, cash = context.portfolio.cash/context.portfolio.portfolio_value)\n",
    "    \n",
    "def compute_weights(context, data):\n",
    "    prices = data.history(context.SPY, 'price', 20, '1d')\n",
    "    returns = prices.pct_change()\n",
    "    std_20 = returns.std()*np.sqrt(250)\n",
    "    \n",
    "    weight = min(0.2 / std_20, 1.5)\n",
    "    \n",
    "    return weight\n",
    "    \n",
    "    \n",
    "def rebalance(context, data):\n",
    "    \n",
    "    weight = compute_weights(context, data)\n",
    "    \n",
    "    if data.can_trade(context.SPY):\n",
    "        order_target_percent(context.SPY,weight)"
   ]
  }
 ],
 "metadata": {
  "kernelspec": {
   "display_name": "Python 3",
   "language": "python",
   "name": "python3"
  },
  "language_info": {
   "codemirror_mode": {
    "name": "ipython",
    "version": 3
   },
   "file_extension": ".py",
   "mimetype": "text/x-python",
   "name": "python",
   "nbconvert_exporter": "python",
   "pygments_lexer": "ipython3",
   "version": "3.6.4"
  }
 },
 "nbformat": 4,
 "nbformat_minor": 2
}
