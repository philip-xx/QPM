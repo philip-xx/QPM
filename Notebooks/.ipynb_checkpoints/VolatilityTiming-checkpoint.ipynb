{
 "cells": [
  {
   "cell_type": "markdown",
   "metadata": {},
   "source": [
    "Problem set 2: Understanding volatility-timing.\n",
    "\n",
    "In this problem set, we will study the volatility-timing strategy in more detail.\n",
    "\n",
    "Create a new algorithm in \"My Code\" on the top right and delete all the text that Quantopian starts with in the left panel. Then copy the code below instead (so do *not* run the code in the notebook as we did for last week's homework)."
   ]
  },
  {
   "cell_type": "code",
   "execution_count": null,
   "metadata": {
    "collapsed": true
   },
   "outputs": [],
   "source": [
    "import numpy as np\n",
    "\n",
    "def initialize(context):\n",
    "    \n",
    "    context.SPY = symbol('SPY')\n",
    "    \n",
    "    schedule_function(rebalance, \n",
    "                      date_rules.month_start(),\n",
    "                      time_rules.market_open())\n",
    "    \n",
    "    schedule_function(record_vars, \n",
    "                     date_rules.every_day(),\n",
    "                     time_rules.market_close())\n",
    "    \n",
    "def record_vars(context, data):\n",
    "    record(leverage = context.account.leverage, cash = context.portfolio.cash/context.portfolio.portfolio_value)\n",
    "    \n",
    "def compute_weights(context, data):\n",
    "    prices = data.history(context.SPY, 'price', 20, '1d')\n",
    "    returns = prices.pct_change()\n",
    "    std_20 = returns.std()*np.sqrt(250)\n",
    "    \n",
    "    weight = min(0.2 / std_20, 1.5)\n",
    "    \n",
    "    return weight\n",
    "    \n",
    "    \n",
    "def rebalance(context, data):\n",
    "    \n",
    "    weight = compute_weights(context, data)\n",
    "    \n",
    "    if data.can_trade(context.SPY):\n",
    "        order_target_percent(context.SPY,weight)"
   ]
  },
  {
   "cell_type": "markdown",
   "metadata": {},
   "source": [
    "This is the code that we discussed in class. We will now modify the strategy to better understand the low-volatility strategy. Every time that you change the strategy, first run \"Build Algorithm.\"\n",
    "\n",
    "In all cases, report:\n",
    "1. Alpha.\n",
    "2. Beta. \n",
    "3. Sharpe ratio.\n",
    "4. The total returns.\n",
    "5. The returns on the benchmark.\n",
    "\n",
    "Quantopian reports all these results by running a \"full backtest,\" which you see on the top right of your screen.\n",
    "\n",
    "*In all cases, include a screenshot of the code you're using in your answers*\n",
    "\n",
    "=> Q1: Report the results for the code as given above from 2006-01-01 to 2019-01-11 to make sure everything runs.\n",
    "\n",
    "Next, we can start to modify some of the parameters. First, let's change the maximum leverage allowed. In particular, suppose you cannot take any leverage (that is, the maximum fraction of your account value you can invest in SPY is limited to 100%).\n",
    "\n",
    "=> Q2: Report the line of code you changed and report the results as above (alpha, beta, ...). Interpret the results.\n",
    "\n",
    "This strategy does particularly well during the financial crisis and the European sovereign debt crisis. Let's see what happens if we exclude these turbulent episodes from the backtest. \n",
    "\n",
    "=> Q3: Run the backtest but now from 2013-01-01 to 2019-01-11 (allow for 50% leverage). Report the results again (alpha, ...). Discuss whether you view the low-volatility timing strategy as an attractive investment opportunity going forward.\n",
    "\n",
    "Return to the original code above that allows for up to 50% leverage. Now let's look at an ETF that experienced even larger swings in volatility, namely an ETF tracking the financial sector. The ticker is XLF. \n",
    "\n",
    "=> Q4: Run the backtest from 2006-01-01 to 2019-01-11. Analyze the results as before. Do you think that the volatility-timed financial sector ETF is an attractive investment opportunity?\n",
    "\n",
    "=> Q5: Change the strategy so that you always invest 100% in XLF (so no volatility timing). Report the results as before. Discuss the benefits to volatility timing for the financial-sector ETF."
   ]
  }
 ],
 "metadata": {
  "kernelspec": {
   "display_name": "Python 3",
   "language": "python",
   "name": "python3"
  },
  "language_info": {
   "codemirror_mode": {
    "name": "ipython",
    "version": 3
   },
   "file_extension": ".py",
   "mimetype": "text/x-python",
   "name": "python",
   "nbconvert_exporter": "python",
   "pygments_lexer": "ipython3",
   "version": "3.6.4"
  }
 },
 "nbformat": 4,
 "nbformat_minor": 2
}
